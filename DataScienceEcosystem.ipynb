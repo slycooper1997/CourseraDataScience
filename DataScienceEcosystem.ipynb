{
 "cells": [
  {
   "cell_type": "markdown",
   "id": "1722f25f-87e9-4641-a1e4-74d25181dd97",
   "metadata": {},
   "source": [
    "<h1> Data Science Tools and Ecosystem <h1>"
   ]
  },
  {
   "cell_type": "markdown",
   "id": "aec1d970-ed6a-454d-8663-bafbdf2370f5",
   "metadata": {},
   "source": [
    "In this notebook, Data Science Tools and Ecosystem are summarized."
   ]
  },
  {
   "cell_type": "markdown",
   "id": "c7bb8f80-3e2d-4fbf-9440-b6b615967afe",
   "metadata": {},
   "source": [
    "Some of the popular languages that Data Scienctists use are:\n",
    "\n",
    "    1. Python\n",
    "    2. R\n",
    "    3. Julia\n",
    "    4. C++"
   ]
  },
  {
   "cell_type": "markdown",
   "id": "6e53b93b-8f15-4fff-9f58-2123f41bb327",
   "metadata": {},
   "source": [
    "Some of the commonly used libraries used by Data Scientist include:\n",
    "\n",
    "    1. NumPy\n",
    "    2. Pandas\n",
    "    3. Matplotlib\n",
    "    4. Plotly"
   ]
  },
  {
   "cell_type": "markdown",
   "id": "5dadf0c5-8fde-4a90-a942-e9e671ac6adb",
   "metadata": {},
   "source": [
    "|Data Science Tools|\n",
    "|------------------|\n",
    "|Jupyter Notebook|\n",
    "|Apache Spark|\n",
    "|Tableau|\n"
   ]
  },
  {
   "cell_type": "markdown",
   "id": "e3386379-7fc3-415b-b452-4631aff9daf7",
   "metadata": {},
   "source": [
    "<h3> Below are a few examples of evaluating arithmetic expressions in Python<h3> "
   ]
  },
  {
   "cell_type": "code",
   "execution_count": 2,
   "id": "1d068949-a777-4115-96c6-6d0cb190c761",
   "metadata": {},
   "outputs": [
    {
     "data": {
      "text/plain": [
       "17"
      ]
     },
     "execution_count": 2,
     "metadata": {},
     "output_type": "execute_result"
    }
   ],
   "source": [
    "# This is a simple arithmetic expression to multiply then add integers\n",
    "(3*4)+5"
   ]
  },
  {
   "cell_type": "code",
   "execution_count": 3,
   "id": "0b395756-3862-447b-b0e3-0493c63b3100",
   "metadata": {},
   "outputs": [
    {
     "name": "stdout",
     "output_type": "stream",
     "text": [
      "3.3333333333333335\n"
     ]
    }
   ],
   "source": [
    "#This will convert 200 minutes to hours by dividing by 60\n",
    "def minutes_to_hours(minutes):\n",
    "        return minutes / 60\n",
    "minutes = 200\n",
    "hours = minutes_to_hours(minutes)\n",
    "print(hours)\n",
    "    "
   ]
  },
  {
   "cell_type": "markdown",
   "id": "e6cf377a-28db-4c2b-b846-a5d7d876baca",
   "metadata": {},
   "source": [
    "<B>Objectives:<B>\n",
    "    \n",
    "    * List Popular Languages for Data Science\n",
    "    * Convert Minutes to Hours\n",
    "    * Simple Arithmetic\n",
    "    * List in a Table Data Science Tools\n",
    "    * List Popular Languages\n",
    "    \n"
   ]
  },
  {
   "cell_type": "markdown",
   "id": "e88b4b12-2503-41d8-808c-c7196fd6b01d",
   "metadata": {},
   "source": [
    "<h2> Author <h2>\n",
    "\n",
    "P.J. Maxwell\n",
    "\n"
   ]
  },
  {
   "cell_type": "code",
   "execution_count": null,
   "id": "d22b417d-eada-49ba-afc0-c5dcdf870666",
   "metadata": {},
   "outputs": [],
   "source": []
  }
 ],
 "metadata": {
  "kernelspec": {
   "display_name": "Python 3 (ipykernel)",
   "language": "python",
   "name": "python3"
  },
  "language_info": {
   "codemirror_mode": {
    "name": "ipython",
    "version": 3
   },
   "file_extension": ".py",
   "mimetype": "text/x-python",
   "name": "python",
   "nbconvert_exporter": "python",
   "pygments_lexer": "ipython3",
   "version": "3.11.9"
  }
 },
 "nbformat": 4,
 "nbformat_minor": 5
}
